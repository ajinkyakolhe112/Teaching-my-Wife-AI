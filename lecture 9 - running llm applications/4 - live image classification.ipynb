{
 "cells": [
  {
   "cell_type": "code",
   "execution_count": null,
   "metadata": {},
   "outputs": [],
   "source": [
    "from pathlib import Path\n",
    "import torch\n",
    "import gradio as gr\n",
    "from torch import nn\n",
    "import requests\n",
    "import io\n",
    "\n",
    "# Fetch class names from URL\n",
    "url = \"https://huggingface.co/spaces/course-demos/Sketch-Recognition/raw/main/class_names.txt\"\n",
    "response = requests.get(url)\n",
    "LABELS = response.text.strip().split()\n",
    "\n",
    "model = nn.Sequential(\n",
    "    nn.Conv2d(1, 32, 3, padding=\"same\"),\n",
    "    nn.ReLU(),\n",
    "    nn.MaxPool2d(2),\n",
    "    nn.Conv2d(32, 64, 3, padding=\"same\"),\n",
    "    nn.ReLU(),\n",
    "    nn.MaxPool2d(2),\n",
    "    nn.Conv2d(64, 128, 3, padding=\"same\"),\n",
    "    nn.ReLU(),\n",
    "    nn.MaxPool2d(2),\n",
    "    nn.Flatten(),\n",
    "    nn.Linear(1152, 256),\n",
    "    nn.ReLU(),\n",
    "    nn.Linear(256, len(LABELS)),\n",
    ")\n",
    "# Fetch model weights from URL\n",
    "model_url  = \"https://huggingface.co/spaces/course-demos/Sketch-Recognition/resolve/main/pytorch_model.bin\"\n",
    "response   = requests.get(model_url)\n",
    "state_dict = torch.load(io.BytesIO(response.content), map_location=\"cpu\")\n",
    "model.load_state_dict(state_dict, strict=False)\n",
    "model.eval()\n",
    "\n",
    "\n",
    "def predict(im):\n",
    "    x = torch.tensor(im, dtype=torch.float32).unsqueeze(0).unsqueeze(0) / 255.0\n",
    "    with torch.no_grad():\n",
    "        out = model(x)\n",
    "    probabilities = torch.nn.functional.softmax(out[0], dim=0)\n",
    "    values, indices = torch.topk(probabilities, 5)\n",
    "    return {LABELS[i]: v.item() for i, v in zip(indices, values)}"
   ]
  },
  {
   "cell_type": "markdown",
   "metadata": {},
   "source": [
    "# Bugs corrected with help of colab gemini ai\n",
    "- `theme=\"gradio/default\"`\n",
    "- "
   ]
  },
  {
   "cell_type": "code",
   "execution_count": null,
   "metadata": {},
   "outputs": [],
   "source": [
    "interface = gr.Interface(\n",
    "    predict,\n",
    "    inputs=\"sketchpad\",\n",
    "    outputs=\"label\",\n",
    "    theme=\"gradio/default\", \n",
    "    title=\"Sketch Recognition\",\n",
    "    description=\"Who wants to play Pictionary? Draw a common object like a shovel or a laptop, and the algorithm will guess in real time!\",\n",
    "    article=\"<p style='text-align: center'>Sketch Recognition | Demo Model</p>\",\n",
    "    live=True,\n",
    ")\n",
    "interface.launch(share=True)"
   ]
  }
 ],
 "metadata": {
  "kernelspec": {
   "display_name": "Python 3",
   "language": "python",
   "name": "python3"
  },
  "language_info": {
   "codemirror_mode": {
    "name": "ipython",
    "version": 3
   },
   "file_extension": ".py",
   "mimetype": "text/x-python",
   "name": "python",
   "nbconvert_exporter": "python",
   "pygments_lexer": "ipython3",
   "version": "3.12.1"
  }
 },
 "nbformat": 4,
 "nbformat_minor": 2
}
