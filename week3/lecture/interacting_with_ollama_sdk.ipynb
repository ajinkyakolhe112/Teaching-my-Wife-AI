{
 "cells": [
  {
   "cell_type": "markdown",
   "metadata": {},
   "source": [
    "# Interacting with Local LLMs using the Ollama Python SDK\n",
    "\n",
    "This notebook demonstrates how to use the Ollama Python SDK to interact with Large Language Models (LLMs) running locally via the Ollama service.\n",
    "\n",
    "**Key Benefits of using Ollama and its SDK:**\n",
    "*   **Privacy:** Your data stays on your local machine.\n",
    "*   **Simplicity:** Ollama makes it easy to download and run various open-source LLMs.\n",
    "*   **Control:** Full control over the models you use.\n",
    "*   **Python Integration:** The SDK allows seamless integration of local LLMs into your Python applications.\n",
    "\n",
    "**Prerequisites:**\n",
    "1.  **Ollama Installed and Running:** Ensure you have Ollama installed and the Ollama application/service is running in the background. You can download it from [ollama.com](https://ollama.com/).\n",
    "2.  **Ollama Python SDK Installed:**\n",
    "    ```bash\n",
    "    pip install ollama\n",
    "    ```\n",
    "3.  **Models Downloaded:** You need to have at least one model downloaded through Ollama. For example:\n",
    "    ```bash\n",
    "    ollama pull llama3 # Or any other model like phi3, mistral, etc.\n",
    "    ```"
   ]
  },
  {
   "cell_type": "markdown",
   "metadata": {},
   "source": [
    "## 1. Listing Available Local Models\n",
    "\n",
    "You can list all the models you have downloaded locally using `ollama.list()`."
   ]
  },
  {
   "cell_type": "code",
   "execution_count": null,
   "metadata": {},
   "outputs": [],
   "source": [
    "import ollama\n",
    "\n",
    "try:\n",
    "    local_models = ollama.list()\n",
    "    print(\"Available local models:\")\n",
    "    if local_models['models']:\n",
    "        for model_info in local_models['models']:\n",
    "            print(f\"- Name: {model_info['name']}, Size: {model_info['size']//(1024**3):.2f} GB, Modified: {model_info['modified_at']}\")\n",
    "    else:\n",
    "        print(\"No models found. Please pull a model using 'ollama pull <model_name>'\")\n",
    "except Exception as e:\n",
    "    print(f\"Error connecting to Ollama: {e}\")\n",
    "    print(\"Please ensure the Ollama application/service is running.\")"
   ]
  },
  {
   "cell_type": "markdown",
   "metadata": {},
   "source": [
    "## 2. Basic Chat Interaction (`ollama.chat()`)\n",
    "\n",
    "The `ollama.chat()` function is the primary way to have conversations with a model. It takes the model name and a list of messages as input.\n",
    "\n",
    "The `messages` list should contain dictionaries, each with a `role` (`user`, `assistant`, or `system`) and `content`."
   ]
  },
  {
   "cell_type": "code",
   "execution_count": null,
   "metadata": {},
   "outputs": [],
   "source": [
    "# Ensure you have a model listed from the previous step. Change 'llama3' if needed.\n",
    "# If local_models list is empty or Ollama is not running, this will fail.\n",
    "MODEL_TO_TEST = 'llama3' # Or 'phi3', 'mistral', etc.\n",
    "if not local_models or not any(m['name'].startswith(MODEL_TO_TEST) for m in local_models.get('models',[])):\n",
    "    print(f\"Model '{MODEL_TO_TEST}' not found locally. Please run 'ollama pull {MODEL_TO_TEST}' or choose an available model.\")\n",
    "else:\n",
    "    messages = [\n",
    "        {\n",
    "            'role': 'user',\n",
    "            'content': 'Why is the sky blue?',\n",
    "        },\n",
    "    ]\n",
    "\n",
    "    try:\n",
    "        # The response is a dictionary-like object (ChatResponse)\n",
    "        response = ollama.chat(model=MODEL_TO_TEST, messages=messages)\n",
    "        \n",
    "        # Accessing the content of the assistant's message\n",
    "        print(f\"Assistant's response (dict access): {response['message']['content']}\")\n",
    "        \n",
    "        # You can also access fields directly from the response object if using newer ollama versions\n",
    "        # print(f\"Assistant's response (object access): {response.message.content}\")\n",
    "        \n",
    "        # The full response object contains other useful information\n",
    "        print(f\"\\nFull response object:\\n{response}\")\n",
    "        \n",
    "    except Exception as e:\n",
    "        print(f\"Error during chat: {e}\")\n",
    "        print(f\"Ensure model '{MODEL_TO_TEST}' is available and Ollama is running.\")"
   ]
  },
  {
   "cell_type": "markdown",
   "metadata": {},
   "source": [
    "## 3. Multi-turn Conversation\n",
    "\n",
    "To have a conversation, you append the assistant's response and the new user message to the `messages` list."
   ]
  },
  {
   "cell_type": "code",
   "execution_count": null,
   "metadata": {},
   "outputs": [],
   "source": [
    "if not local_models or not any(m['name'].startswith(MODEL_TO_TEST) for m in local_models.get('models',[])):\n",
    "    print(f\"Model '{MODEL_TO_TEST}' not found locally. Skipping multi-turn conversation.\")\n",
    "else:\n",
    "    conversation_messages = [\n",
    "        {\n",
    "            'role': 'user',\n",
    "            'content': 'Hi! My name is Alex. What are three interesting facts about Jupiter?'\n",
    "        }\n",
    "    ]\n",
    "    \n",
    "    try:\n",
    "        print(f\"User: {conversation_messages[0]['content']}\")\n",
    "        response1 = ollama.chat(model=MODEL_TO_TEST, messages=conversation_messages)\n",
    "        assistant_response1 = response1['message']['content']\n",
    "        print(f\"Assistant: {assistant_response1}\")\n",
    "        \n",
    "        # Add assistant's response to the conversation history\n",
    "        conversation_messages.append({'role': 'assistant', 'content': assistant_response1})\n",
    "        \n",
    "        # Follow-up question\n",
    "        follow_up_question = 'Of those facts, which one is most surprising to humans and why?'\n",
    "        conversation_messages.append({'role': 'user', 'content': follow_up_question})\n",
    "        print(f\"User: {follow_up_question}\")\n",
    "        \n",
    "        response2 = ollama.chat(model=MODEL_TO_TEST, messages=conversation_messages)\n",
    "        assistant_response2 = response2['message']['content']\n",
    "        print(f\"Assistant: {assistant_response2}\")\n",
    "        \n",
    "    except Exception as e:\n",
    "        print(f\"Error during multi-turn chat: {e}\")"
   ]
  },
  {
   "cell_type": "markdown",
   "metadata": {},
   "source": [
    "## 4. Streaming Responses\n",
    "\n",
    "For longer generations, you might want to stream the response token by token as it's generated. This is done by setting `stream=True`.\n",
    "Each part of the stream provides a chunk of the response."
   ]
  },
  {
   "cell_type": "code",
   "execution_count": null,
   "metadata": {},
   "outputs": [],
   "source": [
    "if not local_models or not any(m['name'].startswith(MODEL_TO_TEST) for m in local_models.get('models',[])):\n",
    "    print(f\"Model '{MODEL_TO_TEST}' not found locally. Skipping streaming example.\")\n",
    "else:\n",
    "    stream_messages = [\n",
    "        {\n",
    "            'role': 'user',\n",
    "            'content': 'Write a short poem about a cat observing a rainy day.'\n",
    "        }\n",
    "    ]\n",
    "    \n",
    "    try:\n",
    "        print(f\"User: {stream_messages[0]['content']}\")\n",
    "        print(\"Assistant (streaming): \", end=\"\")\n",
    "        \n",
    "        # stream=True returns a generator\n",
    "        stream_response = ollama.chat(\n",
    "            model=MODEL_TO_TEST,\n",
    "            messages=stream_messages,\n",
    "            stream=True\n",
    "        )\n",
    "        \n",
    "        for chunk in stream_response:\n",
    "            # Each chunk is a dictionary, similar to the non-streaming response,\n",
    "            # but 'content' will be a part of the full message.\n",
    "            print(chunk['message']['content'], end='', flush=True)\n",
    "        print() # For a newline at the end of the streamed response\n",
    "            \n",
    "    except Exception as e:\n",
    "        print(f\"\\nError during streaming chat: {e}\")"
   ]
  },
  {
   "cell_type": "markdown",
   "metadata": {},
   "source": [
    "## 5. Simple Generation (`ollama.generate()`)\n",
    "\n",
    "For tasks that don't require chat history or complex role structures, `ollama.generate()` is a simpler alternative. It takes a model name and a prompt string.\n",
    "\n",
    "You can also provide `system`, `template` (if the model uses one), and `context` (for stateless history) as optional parameters."
   ]
  },
  {
   "cell_type": "code",
   "execution_count": null,
   "metadata": {},
   "outputs": [],
   "source": [
    "if not local_models or not any(m['name'].startswith(MODEL_TO_TEST) for m in local_models.get('models',[])):\n",
    "    print(f\"Model '{MODEL_TO_TEST}' not found locally. Skipping generate example.\")\n",
    "else:\n",
    "    prompt_text = \"Translate this sentence to French: 'Hello, how are you today?'\"\n",
    "    \n",
    "    try:\n",
    "        print(f\"Prompt: {prompt_text}\")\n",
    "        generate_response = ollama.generate(model=MODEL_TO_TEST, prompt=prompt_text)\n",
    "        print(f\"Response: {generate_response['response']}\")\n",
    "        \n",
    "        # Example with streaming for generate\n",
    "        print(\"\\nStreaming generate response: \", end=\"\")\n",
    "        stream_gen_response = ollama.generate(model=MODEL_TO_TEST, prompt=prompt_text, stream=True)\n",
    "        for chunk in stream_gen_response:\n",
    "            print(chunk['response'], end='', flush=True)\n",
    "        print()\n",
    "            \n",
    "    except Exception as e:\n",
    "        print(f\"\\nError during generation: {e}\")"
   ]
  },
  {
   "cell_type": "markdown",
   "metadata": {},
   "source": [
    "## 6. Getting Model Information (`ollama.show()`)\n",
    "\n",
    "The `ollama.show()` command provides detailed information about a specific model, including its parameters, template, and system prompt if defined in its Modelfile."
   ]
  },
  {
   "cell_type": "code",
   "execution_count": null,
   "metadata": {},
   "outputs": [],
   "source": [
    "if not local_models or not any(m['name'].startswith(MODEL_TO_TEST) for m in local_models.get('models',[])):\n",
    "    print(f\"Model '{MODEL_TO_TEST}' not found locally. Skipping show model example.\")\n",
    "else:\n",
    "    try:\n",
    "        print(f\"--- Information for model: {MODEL_TO_TEST} ---\")\n",
    "        model_details = ollama.show(MODEL_TO_TEST)\n",
    "        # Print some key details\n",
    "        if 'license' in model_details:\n",
    "            print(f\"License: {model_details['license']}\")\n",
    "        if 'modelfile' in model_details:\n",
    "            print(f\"Modelfile (first 150 chars): {model_details['modelfile'][:150]}...\")\n",
    "        if 'parameters' in model_details:\n",
    "            print(f\"Parameters: {model_details['parameters']}\")\n",
    "        if 'template' in model_details: # Deprecated, use format\n",
    "            print(f\"Template: {model_details['template']}\")\n",
    "        if 'details' in model_details and 'format' in model_details['details']:\n",
    "             print(f\"Format: {model_details['details']['format']}\")\n",
    "        if 'details' in model_details and 'parameter_size' in model_details['details']:\n",
    "             print(f\"Parameter Size: {model_details['details']['parameter_size']}\")\n",
    "        if 'details' in model_details and 'quantization_level' in model_details['details']:\n",
    "             print(f\"Quantization Level: {model_details['details']['quantization_level']}\")\n",
    "            \n",
    "    except Exception as e:\n",
    "        print(f\"Error showing model details: {e}\")"
   ]
  },
  {
   "cell_type": "markdown",
   "metadata": {},
   "source": [
    "## Conclusion\n",
    "\n",
    "The Ollama Python SDK provides a convenient and powerful way to integrate local LLMs into your Python projects. Key functions like `ollama.list()`, `ollama.chat()`, `ollama.generate()`, and `ollama.show()` cover most common interaction needs, from listing models and having conversations to simple text generation and model inspection.\n",
    "\n",
    "Remember that the Ollama application must be running for the SDK to function. Experiment with different models and their capabilities to find the best fit for your tasks."
   ]
  }
 ],
 "metadata": {
  "kernelspec": {
   "display_name": "Python 3 (ipykernel)",
   "language": "python",
   "name": "python3"
  },
  "language_info": {
   "codemirror_mode": {
    "name": "ipython",
    "version": 3
   },
   "file_extension": ".py",
   "mimetype": "text/x-python",
   "name": "python",
   "nbconvert_exporter": "python",
   "pygments_lexer": "ipython3",
   "version": "3.10.12"
  }
 },
 "nbformat": 4,
 "nbformat_minor": 5
}
